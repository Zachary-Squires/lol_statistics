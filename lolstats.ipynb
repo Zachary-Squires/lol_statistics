{
 "cells": [
  {
   "cell_type": "code",
   "execution_count": null,
   "id": "110be076-b8f0-4e6e-8557-dcae01f166cd",
   "metadata": {},
   "outputs": [],
   "source": [
    "#Using my puuid (Riot's account identifiation number) to get details of my account.\n",
    "api_url = \"https://na1.api.riotgames.com/lol/summoner/v4/summoners/by-puuid/cDtzRYLS2a4M00LxENnNiYDPKuh3cREfZxIgPoY2Eiuuwy6aDQToCjAq9ikjVSvvV6I_eK21WiIzyA?api_key=RGAPI-9f49b300-e37d-44ca-ac9b-066e3642f525\"\n",
    "import requests \n",
    "requests.get(api_url)\n",
    "resp2 = requests.get(api_url)\n",
    "player_info2 = resp2.json()\n",
    "print(player_info2)"
   ]
  },
  {
   "cell_type": "code",
   "execution_count": 4,
   "id": "40a0f4c2-e604-4cd5-a115-2d843be8073e",
   "metadata": {
    "scrolled": true
   },
   "outputs": [
    {
     "name": "stdout",
     "output_type": "stream",
     "text": [
      "['NA1_5144442181', 'NA1_5144424872', 'NA1_5142715098', 'NA1_5142675303', 'NA1_5142654019', 'NA1_5140126301', 'NA1_5140110172', 'NA1_5139582018', 'NA1_5139571288', 'NA1_5139545203', 'NA1_5139506547', 'NA1_5139216815', 'NA1_5137608591', 'NA1_5137565062', 'NA1_5136598294', 'NA1_5136573342', 'NA1_5136549228', 'NA1_5135960525', 'NA1_5135246570', 'NA1_5135235325', 'NA1_5135225000', 'NA1_5133502016', 'NA1_5133483160', 'NA1_5133458533', 'NA1_5133435287', 'NA1_5131378450', 'NA1_5131352084', 'NA1_5131324169', 'NA1_5131305817', 'NA1_5131251500', 'NA1_5131225510', 'NA1_5130545606', 'NA1_5130523578', 'NA1_5128382028', 'NA1_5128351448', 'NA1_5126630949', 'NA1_5126599733', 'NA1_5125015081', 'NA1_5124975643', 'NA1_5124971955', 'NA1_5124944171', 'NA1_5124910007', 'NA1_5124702267', 'NA1_5124691813', 'NA1_5124670550', 'NA1_5124458182', 'NA1_5124443099', 'NA1_5124427148', 'NA1_5124401015', 'NA1_5121467475', 'NA1_5121433941', 'NA1_5121392935', 'NA1_5121353161', 'NA1_5121327952', 'NA1_5121311598', 'NA1_5121148472', 'NA1_5121133642', 'NA1_5121114365', 'NA1_5120571713', 'NA1_5120544565', 'NA1_5120537188', 'NA1_5120512082', 'NA1_5119283972', 'NA1_5119251196', 'NA1_5118490400', 'NA1_5118481164', 'NA1_5118457582', 'NA1_5118450959', 'NA1_5118429064', 'NA1_5118409520', 'NA1_5118379387', 'NA1_5117578358', 'NA1_5117542695', 'NA1_5116928173', 'NA1_5116898938', 'NA1_5116885778', 'NA1_5116865429', 'NA1_5116864804', 'NA1_5116841879', 'NA1_5114652514', 'NA1_5114625113', 'NA1_5114609928', 'NA1_5114584237', 'NA1_5114567258', 'NA1_5114548532', 'NA1_5114034367', 'NA1_5114011059', 'NA1_5113978500', 'NA1_5112186944', 'NA1_5112162400', 'NA1_4933400100', 'NA1_4933354715', 'NA1_4929329522', 'NA1_4929286191', 'NA1_4929255787', 'NA1_4929229981', 'NA1_4929189198', 'NA1_4928484344', 'NA1_4928424644', 'NA1_4928383425']\n",
      "100\n"
     ]
    }
   ],
   "source": [
    "#Using my puuid to request my most recent matches by ID, can only do so 100 at a time.\n",
    "match_id_url = \"https://americas.api.riotgames.com/lol/match/v5/matches/by-puuid/cDtzRYLS2a4M00LxENnNiYDPKuh3cREfZxIgPoY2Eiuuwy6aDQToCjAq9ikjVSvvV6I_eK21WiIzyA/ids?start=0&count=100&api_key=RGAPI-9f49b300-e37d-44ca-ac9b-066e3642f525\"\n",
    "import requests\n",
    "requests.get(match_id_url)\n",
    "resp3 = requests.get(match_id_url)\n",
    "match_ids = resp3.json()\n",
    "print(match_ids)\n",
    "print(len(match_ids))"
   ]
  },
  {
   "cell_type": "code",
   "execution_count": 8,
   "id": "296b489e-7c37-42ff-b139-10bbb24280b4",
   "metadata": {},
   "outputs": [
    {
     "name": "stdout",
     "output_type": "stream",
     "text": [
      "C:\\Users\\AtomB\\AppData\\Local\\Programs\\Python\\Python312\\Lib\\site-packages\n",
      "C:\\Users\\AtomB\\anaconda3\n"
     ]
    }
   ],
   "source": [
    "#Using os to ensure my directory is set correctly and then connecting to MySQL database in order to insert the data. \n",
    "import os\n",
    "os.chdir(r\"C:\\Users\\AtomB\\AppData\\Local\\Programs\\Python\\Python312\\Lib\\site-packages\")\n",
    "print(os.getcwd())\n",
    "print(os.path.dirname(sys.executable))\n",
    "import MySQLdb\n",
    "import requests\n",
    "db = MySQLdb.connect(host=\"localhost\", user=\"root\", password=\"\", db=\"lol_database\")\n",
    "cursor = db.cursor()\n",
    "starting_point = 0\n",
    "end_point = 19\n",
    "#This loop iterates through multiple matches, the API only allows for 20 requests every one seconds so no more than that can be done at once.\n",
    "while starting_point <= end_point:\n",
    "    #Constructing the URL to query the API, as well as instantiating a dictionary to hold all the data for a match. \n",
    "    match_id = match_ids[starting_point]\n",
    "    match_url = f'https://americas.api.riotgames.com/lol/match/v5/matches/{match_id}?api_key=RGAPI-9f49b300-e37d-44ca-ac9b-066e3642f525'\n",
    "    requests.get(match_url)\n",
    "    resp4 = requests.get(match_url)\n",
    "    match_json = resp4.json()\n",
    "    table_input = {\n",
    "    \"match_Id\": \"\",\n",
    "    \"game_duration\": 0,\n",
    "    \"start_timestamp\": 0,\n",
    "    \"champ_name\": \"\",\n",
    "    \"dam_to_buildings\": 0,\n",
    "    \"kills\": 0,\n",
    "    \"assists\": 0,\n",
    "    \"deaths\": 0,\n",
    "    \"kda\": 0.0,\n",
    "    \"win\": 0,\n",
    "    \"gold_earned\": 0,\n",
    "    \"total_heal\": 0,\n",
    "    \"total_dam_taken\": 0,\n",
    "    \"total_dam_dealt\": 0,\n",
    "    \"total_minions_killed\": 0,\n",
    "    \"vision_score\": 0\n",
    "    }\n",
    "    mypuuid = \"cDtzRYLS2a4M00LxENnNiYDPKuh3cREfZxIgPoY2Eiuuwy6aDQToCjAq9ikjVSvvV6I_eK21WiIzyA\"\n",
    "    participant_selected = \"\"\n",
    "    table_input[\"match_Id\"] = match_json['metadata']['matchId']\n",
    "    table_input[\"game_duration\"] = match_json['info']['gameDuration']\n",
    "    table_input[\"start_timestamp\"] = match_json['info']['gameStartTimestamp']\n",
    "    #Since all of the players in a match are listed and the position of my account will be random among the ten players in a match, this while loop checks the players for one \n",
    "    #that matches my unique puuid and then inserts all the desired data into my dictionary. \n",
    "    i = 0\n",
    "    while i <= 6:\n",
    "        participant_selected = match_json['info']['participants'][i]['puuid']\n",
    "        if mypuuid == participant_selected:\n",
    "            table_input[\"champ_name\"] = match_json['info']['participants'][i]['championName']\n",
    "            table_input[\"dam_to_buildings\"] = match_json['info']['participants'][i]['damageDealtToBuildings']\n",
    "            table_input[\"kills\"] = match_json['info']['participants'][i]['kills']\n",
    "            table_input[\"assists\"] = match_json['info']['participants'][i]['assists']\n",
    "            table_input[\"deaths\"] = match_json['info']['participants'][i]['deaths']\n",
    "            table_input[\"kda\"] = match_json['info']['participants'][i]['challenges']['kda']\n",
    "            table_input[\"win\"] = match_json['info']['participants'][i]['win']\n",
    "            table_input[\"gold_earned\"] = match_json['info']['participants'][i]['goldEarned']\n",
    "            table_input[\"total_heal\"] = match_json['info']['participants'][i]['totalHeal']\n",
    "            table_input[\"total_dam_taken\"] = match_json['info']['participants'][i]['totalDamageTaken']\n",
    "            table_input[\"total_dam_dealt\"] = match_json['info']['participants'][i]['totalDamageDealt']\n",
    "            table_input[\"total_minions_killed\"] = match_json['info']['participants'][i]['totalMinionsKilled']\n",
    "            table_input[\"vision_score\"] = match_json['info']['participants'][i]['visionScore']\n",
    "            break\n",
    "        else:\n",
    "            i += 1\n",
    "    #Using the values from a dictionary I construct a SQL query to insert them into the table. \n",
    "    sql = \"INSERT INTO lol_table VALUES(%s, %s, %s, %s, %s, %s, %s, %s, %s, %s, %s, %s, %s, %s, %s, %s)\"\n",
    "    args = table_input[\"match_Id\"], table_input[\"game_duration\"], table_input[\"start_timestamp\"], table_input[\"champ_name\"], table_input[\"dam_to_buildings\"], table_input[\"kills\"], table_input[\"assists\"], table_input[\"deaths\"], table_input[\"kda\"], table_input[\"win\"], table_input[\"gold_earned\"], table_input[\"total_heal\"], table_input[\"total_dam_taken\"], table_input[\"total_dam_dealt\"], table_input[\"total_minions_killed\"], table_input[\"vision_score\"]\n",
    "    cursor.execute(sql, args)\n",
    "    starting_point += 1\n",
    "#Commit and close the cursor and database connection after all the desired matches have been added. \n",
    "db.commit()\n",
    "cursor.close()\n",
    "db.close()"
   ]
  },
  {
   "cell_type": "code",
   "execution_count": null,
   "id": "4d45a255-03bf-439c-9a9b-f82e8ebe1388",
   "metadata": {},
   "outputs": [],
   "source": [
    "#This is largely the same as the one above, but with the difference that it was made to update old matches with the new data I wanted to collect, hence the use of UPDATE\n",
    "#instead of INSERT. \n",
    "import os\n",
    "import time\n",
    "os.chdir(r\"C:\\Users\\AtomB\\AppData\\Local\\Programs\\Python\\Python312\\Lib\\site-packages\")\n",
    "print(os.getcwd())\n",
    "print(os.path.dirname(sys.executable))\n",
    "import MySQLdb\n",
    "import requests\n",
    "db = MySQLdb.connect(host=\"localhost\", user=\"root\", password=\"2k00l4u2bZ4cK!\", db=\"lol_database\")\n",
    "cursor = db.cursor()\n",
    "j = 40\n",
    "while j <= 44:\n",
    "    match_id = match_ids[j]\n",
    "    match_url = f'https://americas.api.riotgames.com/lol/match/v5/matches/{match_id}?api_key=RGAPI-9f49b300-e37d-44ca-ac9b-066e3642f525'\n",
    "    requests.get(match_url)\n",
    "    resp4 = requests.get(match_url)\n",
    "    match_json = resp4.json()\n",
    "    match_Id = \"\"\n",
    "    gold_earned = 0\n",
    "    total_heal = 0\n",
    "    total_dam_t = 0\n",
    "    total_dam_d = 0\n",
    "    total_min_k= 0\n",
    "    vis_sco = 0\n",
    "    mypuuid = \"cDtzRYLS2a4M00LxENnNiYDPKuh3cREfZxIgPoY2Eiuuwy6aDQToCjAq9ikjVSvvV6I_eK21WiIzyA\"\n",
    "    participant_selected = \"\"\n",
    "    match_Id = match_json['metadata']['matchId']\n",
    "    i = 0\n",
    "    while i <= 9:\n",
    "        participant_selected = match_json['info']['participants'][i]['puuid']\n",
    "        if mypuuid == participant_selected:\n",
    "            gold_earned = match_json['info']['participants'][i]['goldEarned']\n",
    "            total_heal = match_json['info']['participants'][i]['totalHeal']\n",
    "            total_dam_t = match_json['info']['participants'][i]['totalDamageTaken']\n",
    "            total_dam_d = match_json['info']['participants'][i]['totalDamageDealt']\n",
    "            total_min_k = match_json['info']['participants'][i]['totalMinionsKilled']\n",
    "            vis_sco = match_json['info']['participants'][i]['visionScore']\n",
    "            break\n",
    "        else:\n",
    "            i += 1\n",
    "    sql = \"UPDATE lol_table SET gold_earned = %s, total_heal = %s, total_dam_taken = %s, total_dam_dealt = %s, total_minions_killed = %s, vision_score = %s WHERE match_id = %s\"\n",
    "    args = gold_earned, total_heal, total_dam_t, total_dam_d, total_min_k, vis_sco, match_Id\n",
    "    cursor.execute(sql, args)\n",
    "    j += 1\n",
    "db.commit()\n",
    "cursor.close()\n",
    "db.close()"
   ]
  },
  {
   "cell_type": "code",
   "execution_count": null,
   "id": "9cab6477-22e9-4145-82c3-f2bf2cf481db",
   "metadata": {},
   "outputs": [],
   "source": []
  }
 ],
 "metadata": {
  "kernelspec": {
   "display_name": "Python 3 (ipykernel)",
   "language": "python",
   "name": "python3"
  },
  "language_info": {
   "codemirror_mode": {
    "name": "ipython",
    "version": 3
   },
   "file_extension": ".py",
   "mimetype": "text/x-python",
   "name": "python",
   "nbconvert_exporter": "python",
   "pygments_lexer": "ipython3",
   "version": "3.12.4"
  }
 },
 "nbformat": 4,
 "nbformat_minor": 5
}
